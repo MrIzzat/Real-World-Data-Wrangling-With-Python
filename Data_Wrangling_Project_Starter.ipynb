{
 "cells": [
  {
   "cell_type": "markdown",
   "metadata": {
    "id": "GNIwe5N7s0e_"
   },
   "source": [
    "# Real-world Data Wrangling"
   ]
  },
  {
   "cell_type": "markdown",
   "metadata": {},
   "source": [
    "## Import libraries"
   ]
  },
  {
   "cell_type": "code",
   "execution_count": 153,
   "metadata": {},
   "outputs": [],
   "source": [
    "import pandas as pd\n",
    "import zipfile\n",
    "import matplotlib.pyplot as plt\n",
    "from matplotlib import ticker"
   ]
  },
  {
   "cell_type": "markdown",
   "metadata": {
    "id": "lDYDkH-Zs7Nn"
   },
   "source": [
    "## 1. Gather data\n"
   ]
  },
  {
   "cell_type": "markdown",
   "metadata": {
    "id": "LbN7z7rcuqpO"
   },
   "source": [
    "### **1.1.** Problem Statement"
   ]
  },
  {
   "cell_type": "markdown",
   "metadata": {},
   "source": [
    "The goal is to see if car sales are affected by the change in fuel prices. Do car sales increase if fuel prices decrease and vise versa, or are they completely on affected?"
   ]
  },
  {
   "cell_type": "markdown",
   "metadata": {
    "id": "8AQfBAdUypMm"
   },
   "source": [
    "### **1.2.** Getting the datasets"
   ]
  },
  {
   "cell_type": "markdown",
   "metadata": {
    "id": "7e6gS0wL1KTu"
   },
   "source": [
    "#### **Dataset 1**\n"
   ]
  },
  {
   "cell_type": "markdown",
   "metadata": {},
   "source": [
    "Downloading the car sales dataset from kaggle using the kaggle API, which can be found here:\n",
    "\n",
    "https://www.kaggle.com/datasets/mexwell/dvm-car\n",
    "\n",
    "It is a .csv file\n",
    "\n",
    "*Will only use the `Sales_table.csv` file*\n",
    "\n",
    "Maker: the manufacturer of the car\\\n",
    "Genmodel: The model of the car\\\n",
    "Genmodel_ID: The id of the model\\\n",
    "Columns 2020-2001: Numbers of sales of a particualar car model in that year"
   ]
  },
  {
   "cell_type": "markdown",
   "metadata": {},
   "source": [
    "##### Download the dataset"
   ]
  },
  {
   "cell_type": "code",
   "execution_count": 98,
   "metadata": {
    "id": "Su8E0uLuYkHU"
   },
   "outputs": [
    {
     "name": "stdout",
     "output_type": "stream",
     "text": [
      "Dataset URL: https://www.kaggle.com/datasets/mexwell/dvm-car\n",
      "License(s): other\n",
      "Downloading dvm-car.zip to C:\\Users\\MrIzzat\\Documents\\Data Analysis Course\\Projects\\Project 2\n",
      "\n"
     ]
    },
    {
     "name": "stderr",
     "output_type": "stream",
     "text": [
      "\n",
      "  0%|          | 0.00/9.36M [00:00<?, ?B/s]\n",
      " 11%|#         | 1.00M/9.36M [00:00<00:05, 1.47MB/s]\n",
      " 21%|##1       | 2.00M/9.36M [00:00<00:03, 2.28MB/s]\n",
      " 32%|###2      | 3.00M/9.36M [00:01<00:02, 2.68MB/s]\n",
      " 43%|####2     | 4.00M/9.36M [00:01<00:01, 3.08MB/s]\n",
      " 53%|#####3    | 5.00M/9.36M [00:02<00:01, 2.77MB/s]\n",
      " 75%|#######4  | 7.00M/9.36M [00:02<00:00, 3.37MB/s]\n",
      " 85%|########5 | 8.00M/9.36M [00:02<00:00, 3.39MB/s]\n",
      " 96%|#########6| 9.00M/9.36M [00:03<00:00, 3.39MB/s]\n",
      "100%|##########| 9.36M/9.36M [00:03<00:00, 3.38MB/s]\n",
      "100%|##########| 9.36M/9.36M [00:03<00:00, 3.04MB/s]\n"
     ]
    }
   ],
   "source": [
    "!kaggle datasets download -d mexwell/dvm-car --force"
   ]
  },
  {
   "cell_type": "markdown",
   "metadata": {},
   "source": [
    "##### Unzipping the dataset"
   ]
  },
  {
   "cell_type": "code",
   "execution_count": 99,
   "metadata": {},
   "outputs": [],
   "source": [
    "with zipfile.ZipFile('./dvm-car.zip','r') as zip_ref:\n",
    "    zip_ref.extractall('./CarsDataset')"
   ]
  },
  {
   "cell_type": "code",
   "execution_count": 100,
   "metadata": {},
   "outputs": [],
   "source": [
    "carSalesDf = pd.read_csv('./CarsDataset/Sales_table.csv')"
   ]
  },
  {
   "cell_type": "code",
   "execution_count": 101,
   "metadata": {},
   "outputs": [
    {
     "data": {
      "text/plain": [
       "Index(['Maker', 'Genmodel', 'Genmodel_ID', '2020', '2019', '2018', '2017',\n",
       "       '2016', '2015', '2014', '2013', '2012', '2011', '2010', '2009', '2008',\n",
       "       '2007', '2006', '2005', '2004', '2003', '2002', '2001'],\n",
       "      dtype='object')"
      ]
     },
     "execution_count": 101,
     "metadata": {},
     "output_type": "execute_result"
    }
   ],
   "source": [
    "carSalesDf.columns"
   ]
  },
  {
   "cell_type": "markdown",
   "metadata": {
    "id": "hoUjq1tPzz7P"
   },
   "source": [
    "#### Dataset 2"
   ]
  },
  {
   "cell_type": "markdown",
   "metadata": {},
   "source": [
    "`fuel_price.csv` dataset was downloaded manually from kaggle, can be found here:\n",
    "\n",
    "https://www.kaggle.com/datasets/benten867/uk-fuel-price-weekly-statistics20032020\n",
    "\n",
    "Important abbreviations: ULSP = Ultra low sulpur unleaded petrol, ULSD = Ultra low sulphur diesel\n",
    "\n",
    "\n",
    "\"Unnamed: 0\": The index\\\n",
    "Date: date of entry taken\\\n",
    "\"Pump price in pence/litre (ULSP)\": As the name suggests\\\n",
    "\"Pump price in pence/litre (ULSD)\": As the name suggests\\\n",
    "\"Duty rate in pence/litre (ULSP)\": as the name suggests, where the duty rate is a type of tax\\\n",
    "\"Duty rate in pence/litre (ULSD)\": As the name suggests\\\n",
    "\"VAT percentage rate (ULSP)\": As the name suggests, where VAT stands for \"Value Added Tax\"\\\n",
    "\"VAT percentage rate (ULSD)\": As the name suggests: "
   ]
  },
  {
   "cell_type": "code",
   "execution_count": 102,
   "metadata": {
    "id": "6zT0QxRyYmm7"
   },
   "outputs": [],
   "source": [
    "fuelPricesDf = pd.read_csv('./fuel price.csv')"
   ]
  },
  {
   "cell_type": "code",
   "execution_count": 103,
   "metadata": {},
   "outputs": [
    {
     "data": {
      "text/plain": [
       "Index(['Unnamed: 0', 'Date', 'Pump price in pence/litre (ULSP)',\n",
       "       'Pump price in pence/litre (ULSD)', 'Duty rate in pence/litre (ULSP)',\n",
       "       'Duty rate in pence/litre (ULSD)', 'VAT percentage rate (ULSP)',\n",
       "       'VAT percentage rate (ULSD)'],\n",
       "      dtype='object')"
      ]
     },
     "execution_count": 103,
     "metadata": {},
     "output_type": "execute_result"
    }
   ],
   "source": [
    "fuelPricesDf.columns"
   ]
  },
  {
   "cell_type": "code",
   "execution_count": 104,
   "metadata": {},
   "outputs": [
    {
     "data": {
      "text/html": [
       "<div>\n",
       "<style scoped>\n",
       "    .dataframe tbody tr th:only-of-type {\n",
       "        vertical-align: middle;\n",
       "    }\n",
       "\n",
       "    .dataframe tbody tr th {\n",
       "        vertical-align: top;\n",
       "    }\n",
       "\n",
       "    .dataframe thead th {\n",
       "        text-align: right;\n",
       "    }\n",
       "</style>\n",
       "<table border=\"1\" class=\"dataframe\">\n",
       "  <thead>\n",
       "    <tr style=\"text-align: right;\">\n",
       "      <th></th>\n",
       "      <th>Unnamed: 0</th>\n",
       "      <th>Date</th>\n",
       "      <th>Pump price in pence/litre (ULSP)</th>\n",
       "      <th>Pump price in pence/litre (ULSD)</th>\n",
       "      <th>Duty rate in pence/litre (ULSP)</th>\n",
       "      <th>Duty rate in pence/litre (ULSD)</th>\n",
       "      <th>VAT percentage rate (ULSP)</th>\n",
       "      <th>VAT percentage rate (ULSD)</th>\n",
       "    </tr>\n",
       "  </thead>\n",
       "  <tbody>\n",
       "    <tr>\n",
       "      <th>0</th>\n",
       "      <td>2</td>\n",
       "      <td>09/06/2003</td>\n",
       "      <td>74.59</td>\n",
       "      <td>76.77</td>\n",
       "      <td>45.82</td>\n",
       "      <td>45.82</td>\n",
       "      <td>17.5</td>\n",
       "      <td>17.5</td>\n",
       "    </tr>\n",
       "  </tbody>\n",
       "</table>\n",
       "</div>"
      ],
      "text/plain": [
       "   Unnamed: 0        Date  Pump price in pence/litre (ULSP)  \\\n",
       "0           2  09/06/2003                             74.59   \n",
       "\n",
       "   Pump price in pence/litre (ULSD)  Duty rate in pence/litre (ULSP)  \\\n",
       "0                             76.77                            45.82   \n",
       "\n",
       "   Duty rate in pence/litre (ULSD)  VAT percentage rate (ULSP)  \\\n",
       "0                            45.82                        17.5   \n",
       "\n",
       "   VAT percentage rate (ULSD)  \n",
       "0                        17.5  "
      ]
     },
     "execution_count": 104,
     "metadata": {},
     "output_type": "execute_result"
    }
   ],
   "source": [
    "fuelPricesDf.head(1)"
   ]
  },
  {
   "cell_type": "markdown",
   "metadata": {
    "id": "QwSWIVmotLgV"
   },
   "source": [
    "## 2. Assess data\n"
   ]
  },
  {
   "cell_type": "markdown",
   "metadata": {},
   "source": [
    "### Assessing `carSalesDf`"
   ]
  },
  {
   "cell_type": "code",
   "execution_count": 105,
   "metadata": {},
   "outputs": [
    {
     "name": "stdout",
     "output_type": "stream",
     "text": [
      "<class 'pandas.core.frame.DataFrame'>\n",
      "RangeIndex: 773 entries, 0 to 772\n",
      "Data columns (total 23 columns):\n",
      " #   Column       Non-Null Count  Dtype \n",
      "---  ------       --------------  ----- \n",
      " 0   Maker        773 non-null    object\n",
      " 1   Genmodel     773 non-null    object\n",
      " 2   Genmodel_ID  773 non-null    object\n",
      " 3   2020         773 non-null    int64 \n",
      " 4   2019         773 non-null    int64 \n",
      " 5   2018         773 non-null    int64 \n",
      " 6   2017         773 non-null    int64 \n",
      " 7   2016         773 non-null    int64 \n",
      " 8   2015         773 non-null    int64 \n",
      " 9   2014         773 non-null    int64 \n",
      " 10  2013         773 non-null    int64 \n",
      " 11  2012         773 non-null    int64 \n",
      " 12  2011         773 non-null    int64 \n",
      " 13  2010         773 non-null    int64 \n",
      " 14  2009         773 non-null    int64 \n",
      " 15  2008         773 non-null    int64 \n",
      " 16  2007         773 non-null    int64 \n",
      " 17  2006         773 non-null    int64 \n",
      " 18  2005         773 non-null    int64 \n",
      " 19  2004         773 non-null    int64 \n",
      " 20  2003         773 non-null    int64 \n",
      " 21  2002         773 non-null    int64 \n",
      " 22  2001         773 non-null    int64 \n",
      "dtypes: int64(20), object(3)\n",
      "memory usage: 139.0+ KB\n"
     ]
    }
   ],
   "source": [
    "carSalesDf.info()"
   ]
  },
  {
   "cell_type": "markdown",
   "metadata": {},
   "source": [
    "No missing data"
   ]
  },
  {
   "cell_type": "code",
   "execution_count": 106,
   "metadata": {},
   "outputs": [
    {
     "data": {
      "text/plain": [
       "0"
      ]
     },
     "execution_count": 106,
     "metadata": {},
     "output_type": "execute_result"
    }
   ],
   "source": [
    "carSalesDf.duplicated().sum()"
   ]
  },
  {
   "cell_type": "markdown",
   "metadata": {},
   "source": [
    "No Duplicates"
   ]
  },
  {
   "cell_type": "code",
   "execution_count": 107,
   "metadata": {},
   "outputs": [
    {
     "data": {
      "text/html": [
       "<div>\n",
       "<style scoped>\n",
       "    .dataframe tbody tr th:only-of-type {\n",
       "        vertical-align: middle;\n",
       "    }\n",
       "\n",
       "    .dataframe tbody tr th {\n",
       "        vertical-align: top;\n",
       "    }\n",
       "\n",
       "    .dataframe thead th {\n",
       "        text-align: right;\n",
       "    }\n",
       "</style>\n",
       "<table border=\"1\" class=\"dataframe\">\n",
       "  <thead>\n",
       "    <tr style=\"text-align: right;\">\n",
       "      <th></th>\n",
       "      <th>Maker</th>\n",
       "      <th>Genmodel</th>\n",
       "      <th>Genmodel_ID</th>\n",
       "      <th>2020</th>\n",
       "      <th>2019</th>\n",
       "      <th>2018</th>\n",
       "      <th>2017</th>\n",
       "      <th>2016</th>\n",
       "      <th>2015</th>\n",
       "      <th>2014</th>\n",
       "      <th>...</th>\n",
       "      <th>2010</th>\n",
       "      <th>2009</th>\n",
       "      <th>2008</th>\n",
       "      <th>2007</th>\n",
       "      <th>2006</th>\n",
       "      <th>2005</th>\n",
       "      <th>2004</th>\n",
       "      <th>2003</th>\n",
       "      <th>2002</th>\n",
       "      <th>2001</th>\n",
       "    </tr>\n",
       "  </thead>\n",
       "  <tbody>\n",
       "    <tr>\n",
       "      <th>0</th>\n",
       "      <td>ABARTH</td>\n",
       "      <td>ABARTH 124</td>\n",
       "      <td>2_1</td>\n",
       "      <td>0</td>\n",
       "      <td>19</td>\n",
       "      <td>27</td>\n",
       "      <td>60</td>\n",
       "      <td>0</td>\n",
       "      <td>0</td>\n",
       "      <td>0</td>\n",
       "      <td>...</td>\n",
       "      <td>0</td>\n",
       "      <td>0</td>\n",
       "      <td>0</td>\n",
       "      <td>0</td>\n",
       "      <td>0</td>\n",
       "      <td>0</td>\n",
       "      <td>0</td>\n",
       "      <td>0</td>\n",
       "      <td>0</td>\n",
       "      <td>0</td>\n",
       "    </tr>\n",
       "    <tr>\n",
       "      <th>1</th>\n",
       "      <td>ABARTH</td>\n",
       "      <td>ABARTH 500</td>\n",
       "      <td>2_2</td>\n",
       "      <td>0</td>\n",
       "      <td>0</td>\n",
       "      <td>1</td>\n",
       "      <td>2</td>\n",
       "      <td>66</td>\n",
       "      <td>717</td>\n",
       "      <td>762</td>\n",
       "      <td>...</td>\n",
       "      <td>915</td>\n",
       "      <td>766</td>\n",
       "      <td>0</td>\n",
       "      <td>0</td>\n",
       "      <td>0</td>\n",
       "      <td>0</td>\n",
       "      <td>0</td>\n",
       "      <td>0</td>\n",
       "      <td>0</td>\n",
       "      <td>0</td>\n",
       "    </tr>\n",
       "    <tr>\n",
       "      <th>2</th>\n",
       "      <td>ABARTH</td>\n",
       "      <td>ABARTH 595</td>\n",
       "      <td>2_4</td>\n",
       "      <td>2144</td>\n",
       "      <td>2866</td>\n",
       "      <td>3907</td>\n",
       "      <td>3295</td>\n",
       "      <td>3132</td>\n",
       "      <td>1612</td>\n",
       "      <td>516</td>\n",
       "      <td>...</td>\n",
       "      <td>0</td>\n",
       "      <td>0</td>\n",
       "      <td>0</td>\n",
       "      <td>0</td>\n",
       "      <td>0</td>\n",
       "      <td>0</td>\n",
       "      <td>0</td>\n",
       "      <td>0</td>\n",
       "      <td>0</td>\n",
       "      <td>0</td>\n",
       "    </tr>\n",
       "    <tr>\n",
       "      <th>3</th>\n",
       "      <td>ABARTH</td>\n",
       "      <td>ABARTH 695</td>\n",
       "      <td>2_6</td>\n",
       "      <td>45</td>\n",
       "      <td>65</td>\n",
       "      <td>270</td>\n",
       "      <td>114</td>\n",
       "      <td>29</td>\n",
       "      <td>10</td>\n",
       "      <td>14</td>\n",
       "      <td>...</td>\n",
       "      <td>0</td>\n",
       "      <td>0</td>\n",
       "      <td>0</td>\n",
       "      <td>0</td>\n",
       "      <td>0</td>\n",
       "      <td>0</td>\n",
       "      <td>0</td>\n",
       "      <td>0</td>\n",
       "      <td>0</td>\n",
       "      <td>0</td>\n",
       "    </tr>\n",
       "    <tr>\n",
       "      <th>4</th>\n",
       "      <td>ABARTH</td>\n",
       "      <td>ABARTH PUNTO</td>\n",
       "      <td>2_9</td>\n",
       "      <td>0</td>\n",
       "      <td>0</td>\n",
       "      <td>0</td>\n",
       "      <td>0</td>\n",
       "      <td>0</td>\n",
       "      <td>0</td>\n",
       "      <td>56</td>\n",
       "      <td>...</td>\n",
       "      <td>97</td>\n",
       "      <td>172</td>\n",
       "      <td>74</td>\n",
       "      <td>0</td>\n",
       "      <td>0</td>\n",
       "      <td>0</td>\n",
       "      <td>0</td>\n",
       "      <td>0</td>\n",
       "      <td>0</td>\n",
       "      <td>0</td>\n",
       "    </tr>\n",
       "  </tbody>\n",
       "</table>\n",
       "<p>5 rows × 23 columns</p>\n",
       "</div>"
      ],
      "text/plain": [
       "    Maker      Genmodel Genmodel_ID  2020  2019  2018  2017  2016  2015  2014  \\\n",
       "0  ABARTH    ABARTH 124         2_1     0    19    27    60     0     0     0   \n",
       "1  ABARTH    ABARTH 500         2_2     0     0     1     2    66   717   762   \n",
       "2  ABARTH    ABARTH 595         2_4  2144  2866  3907  3295  3132  1612   516   \n",
       "3  ABARTH    ABARTH 695         2_6    45    65   270   114    29    10    14   \n",
       "4  ABARTH  ABARTH PUNTO         2_9     0     0     0     0     0     0    56   \n",
       "\n",
       "   ...  2010  2009  2008  2007  2006  2005  2004  2003  2002  2001  \n",
       "0  ...     0     0     0     0     0     0     0     0     0     0  \n",
       "1  ...   915   766     0     0     0     0     0     0     0     0  \n",
       "2  ...     0     0     0     0     0     0     0     0     0     0  \n",
       "3  ...     0     0     0     0     0     0     0     0     0     0  \n",
       "4  ...    97   172    74     0     0     0     0     0     0     0  \n",
       "\n",
       "[5 rows x 23 columns]"
      ]
     },
     "execution_count": 107,
     "metadata": {},
     "output_type": "execute_result"
    }
   ],
   "source": [
    "carSalesDf.head()"
   ]
  },
  {
   "cell_type": "code",
   "execution_count": 108,
   "metadata": {},
   "outputs": [
    {
     "data": {
      "text/html": [
       "<div>\n",
       "<style scoped>\n",
       "    .dataframe tbody tr th:only-of-type {\n",
       "        vertical-align: middle;\n",
       "    }\n",
       "\n",
       "    .dataframe tbody tr th {\n",
       "        vertical-align: top;\n",
       "    }\n",
       "\n",
       "    .dataframe thead th {\n",
       "        text-align: right;\n",
       "    }\n",
       "</style>\n",
       "<table border=\"1\" class=\"dataframe\">\n",
       "  <thead>\n",
       "    <tr style=\"text-align: right;\">\n",
       "      <th></th>\n",
       "      <th>2020</th>\n",
       "      <th>2019</th>\n",
       "      <th>2018</th>\n",
       "      <th>2017</th>\n",
       "      <th>2016</th>\n",
       "      <th>2015</th>\n",
       "      <th>2014</th>\n",
       "      <th>2013</th>\n",
       "      <th>2012</th>\n",
       "      <th>2011</th>\n",
       "      <th>2010</th>\n",
       "      <th>2009</th>\n",
       "      <th>2008</th>\n",
       "      <th>2007</th>\n",
       "      <th>2006</th>\n",
       "      <th>2005</th>\n",
       "      <th>2004</th>\n",
       "      <th>2003</th>\n",
       "      <th>2002</th>\n",
       "      <th>2001</th>\n",
       "    </tr>\n",
       "  </thead>\n",
       "  <tbody>\n",
       "    <tr>\n",
       "      <th>count</th>\n",
       "      <td>773.000000</td>\n",
       "      <td>773.000000</td>\n",
       "      <td>773.000000</td>\n",
       "      <td>773.000000</td>\n",
       "      <td>773.000000</td>\n",
       "      <td>773.000000</td>\n",
       "      <td>773.000000</td>\n",
       "      <td>773.000000</td>\n",
       "      <td>773.000000</td>\n",
       "      <td>773.000000</td>\n",
       "      <td>773.000000</td>\n",
       "      <td>773.000000</td>\n",
       "      <td>773.000000</td>\n",
       "      <td>773.000000</td>\n",
       "      <td>773.000000</td>\n",
       "      <td>773.000000</td>\n",
       "      <td>773.000000</td>\n",
       "      <td>773.000000</td>\n",
       "      <td>773.000000</td>\n",
       "      <td>773.000000</td>\n",
       "    </tr>\n",
       "    <tr>\n",
       "      <th>mean</th>\n",
       "      <td>1979.454075</td>\n",
       "      <td>2818.445019</td>\n",
       "      <td>2862.076326</td>\n",
       "      <td>2963.058215</td>\n",
       "      <td>3203.897801</td>\n",
       "      <td>3132.236740</td>\n",
       "      <td>2915.015524</td>\n",
       "      <td>2628.974127</td>\n",
       "      <td>2314.923674</td>\n",
       "      <td>2131.992238</td>\n",
       "      <td>2165.604140</td>\n",
       "      <td>2041.534282</td>\n",
       "      <td>1941.636481</td>\n",
       "      <td>1976.517464</td>\n",
       "      <td>1626.055627</td>\n",
       "      <td>1325.930142</td>\n",
       "      <td>1058.534282</td>\n",
       "      <td>805.106080</td>\n",
       "      <td>564.614489</td>\n",
       "      <td>349.142303</td>\n",
       "    </tr>\n",
       "    <tr>\n",
       "      <th>std</th>\n",
       "      <td>5403.526805</td>\n",
       "      <td>7466.655137</td>\n",
       "      <td>7731.051191</td>\n",
       "      <td>8199.212870</td>\n",
       "      <td>9234.009443</td>\n",
       "      <td>9571.845809</td>\n",
       "      <td>9085.533712</td>\n",
       "      <td>8520.582424</td>\n",
       "      <td>7742.340436</td>\n",
       "      <td>7122.691281</td>\n",
       "      <td>7249.633197</td>\n",
       "      <td>7136.761258</td>\n",
       "      <td>6755.753065</td>\n",
       "      <td>6958.049764</td>\n",
       "      <td>5690.905348</td>\n",
       "      <td>4616.839607</td>\n",
       "      <td>3683.193277</td>\n",
       "      <td>2989.763318</td>\n",
       "      <td>2200.688401</td>\n",
       "      <td>1342.884560</td>\n",
       "    </tr>\n",
       "    <tr>\n",
       "      <th>min</th>\n",
       "      <td>0.000000</td>\n",
       "      <td>0.000000</td>\n",
       "      <td>0.000000</td>\n",
       "      <td>0.000000</td>\n",
       "      <td>0.000000</td>\n",
       "      <td>0.000000</td>\n",
       "      <td>0.000000</td>\n",
       "      <td>0.000000</td>\n",
       "      <td>0.000000</td>\n",
       "      <td>0.000000</td>\n",
       "      <td>0.000000</td>\n",
       "      <td>0.000000</td>\n",
       "      <td>0.000000</td>\n",
       "      <td>0.000000</td>\n",
       "      <td>0.000000</td>\n",
       "      <td>0.000000</td>\n",
       "      <td>0.000000</td>\n",
       "      <td>0.000000</td>\n",
       "      <td>0.000000</td>\n",
       "      <td>0.000000</td>\n",
       "    </tr>\n",
       "    <tr>\n",
       "      <th>25%</th>\n",
       "      <td>0.000000</td>\n",
       "      <td>0.000000</td>\n",
       "      <td>0.000000</td>\n",
       "      <td>0.000000</td>\n",
       "      <td>0.000000</td>\n",
       "      <td>0.000000</td>\n",
       "      <td>0.000000</td>\n",
       "      <td>0.000000</td>\n",
       "      <td>0.000000</td>\n",
       "      <td>0.000000</td>\n",
       "      <td>0.000000</td>\n",
       "      <td>0.000000</td>\n",
       "      <td>0.000000</td>\n",
       "      <td>0.000000</td>\n",
       "      <td>0.000000</td>\n",
       "      <td>0.000000</td>\n",
       "      <td>0.000000</td>\n",
       "      <td>0.000000</td>\n",
       "      <td>0.000000</td>\n",
       "      <td>0.000000</td>\n",
       "    </tr>\n",
       "    <tr>\n",
       "      <th>50%</th>\n",
       "      <td>0.000000</td>\n",
       "      <td>1.000000</td>\n",
       "      <td>2.000000</td>\n",
       "      <td>2.000000</td>\n",
       "      <td>2.000000</td>\n",
       "      <td>1.000000</td>\n",
       "      <td>1.000000</td>\n",
       "      <td>1.000000</td>\n",
       "      <td>0.000000</td>\n",
       "      <td>0.000000</td>\n",
       "      <td>0.000000</td>\n",
       "      <td>1.000000</td>\n",
       "      <td>0.000000</td>\n",
       "      <td>0.000000</td>\n",
       "      <td>0.000000</td>\n",
       "      <td>0.000000</td>\n",
       "      <td>0.000000</td>\n",
       "      <td>0.000000</td>\n",
       "      <td>0.000000</td>\n",
       "      <td>0.000000</td>\n",
       "    </tr>\n",
       "    <tr>\n",
       "      <th>75%</th>\n",
       "      <td>794.000000</td>\n",
       "      <td>1440.000000</td>\n",
       "      <td>1427.000000</td>\n",
       "      <td>1437.000000</td>\n",
       "      <td>1392.000000</td>\n",
       "      <td>1287.000000</td>\n",
       "      <td>946.000000</td>\n",
       "      <td>846.000000</td>\n",
       "      <td>684.000000</td>\n",
       "      <td>612.000000</td>\n",
       "      <td>674.000000</td>\n",
       "      <td>602.000000</td>\n",
       "      <td>560.000000</td>\n",
       "      <td>550.000000</td>\n",
       "      <td>480.000000</td>\n",
       "      <td>418.000000</td>\n",
       "      <td>224.000000</td>\n",
       "      <td>106.000000</td>\n",
       "      <td>62.000000</td>\n",
       "      <td>36.000000</td>\n",
       "    </tr>\n",
       "    <tr>\n",
       "      <th>max</th>\n",
       "      <td>46739.000000</td>\n",
       "      <td>74500.000000</td>\n",
       "      <td>89564.000000</td>\n",
       "      <td>87409.000000</td>\n",
       "      <td>113568.000000</td>\n",
       "      <td>125619.000000</td>\n",
       "      <td>122815.000000</td>\n",
       "      <td>113390.000000</td>\n",
       "      <td>100228.000000</td>\n",
       "      <td>87266.000000</td>\n",
       "      <td>91353.000000</td>\n",
       "      <td>100975.000000</td>\n",
       "      <td>73429.000000</td>\n",
       "      <td>77257.000000</td>\n",
       "      <td>68079.000000</td>\n",
       "      <td>58824.000000</td>\n",
       "      <td>43404.000000</td>\n",
       "      <td>32345.000000</td>\n",
       "      <td>26767.000000</td>\n",
       "      <td>15737.000000</td>\n",
       "    </tr>\n",
       "  </tbody>\n",
       "</table>\n",
       "</div>"
      ],
      "text/plain": [
       "               2020          2019          2018          2017           2016  \\\n",
       "count    773.000000    773.000000    773.000000    773.000000     773.000000   \n",
       "mean    1979.454075   2818.445019   2862.076326   2963.058215    3203.897801   \n",
       "std     5403.526805   7466.655137   7731.051191   8199.212870    9234.009443   \n",
       "min        0.000000      0.000000      0.000000      0.000000       0.000000   \n",
       "25%        0.000000      0.000000      0.000000      0.000000       0.000000   \n",
       "50%        0.000000      1.000000      2.000000      2.000000       2.000000   \n",
       "75%      794.000000   1440.000000   1427.000000   1437.000000    1392.000000   \n",
       "max    46739.000000  74500.000000  89564.000000  87409.000000  113568.000000   \n",
       "\n",
       "                2015           2014           2013           2012  \\\n",
       "count     773.000000     773.000000     773.000000     773.000000   \n",
       "mean     3132.236740    2915.015524    2628.974127    2314.923674   \n",
       "std      9571.845809    9085.533712    8520.582424    7742.340436   \n",
       "min         0.000000       0.000000       0.000000       0.000000   \n",
       "25%         0.000000       0.000000       0.000000       0.000000   \n",
       "50%         1.000000       1.000000       1.000000       0.000000   \n",
       "75%      1287.000000     946.000000     846.000000     684.000000   \n",
       "max    125619.000000  122815.000000  113390.000000  100228.000000   \n",
       "\n",
       "               2011          2010           2009          2008          2007  \\\n",
       "count    773.000000    773.000000     773.000000    773.000000    773.000000   \n",
       "mean    2131.992238   2165.604140    2041.534282   1941.636481   1976.517464   \n",
       "std     7122.691281   7249.633197    7136.761258   6755.753065   6958.049764   \n",
       "min        0.000000      0.000000       0.000000      0.000000      0.000000   \n",
       "25%        0.000000      0.000000       0.000000      0.000000      0.000000   \n",
       "50%        0.000000      0.000000       1.000000      0.000000      0.000000   \n",
       "75%      612.000000    674.000000     602.000000    560.000000    550.000000   \n",
       "max    87266.000000  91353.000000  100975.000000  73429.000000  77257.000000   \n",
       "\n",
       "               2006          2005          2004          2003          2002  \\\n",
       "count    773.000000    773.000000    773.000000    773.000000    773.000000   \n",
       "mean    1626.055627   1325.930142   1058.534282    805.106080    564.614489   \n",
       "std     5690.905348   4616.839607   3683.193277   2989.763318   2200.688401   \n",
       "min        0.000000      0.000000      0.000000      0.000000      0.000000   \n",
       "25%        0.000000      0.000000      0.000000      0.000000      0.000000   \n",
       "50%        0.000000      0.000000      0.000000      0.000000      0.000000   \n",
       "75%      480.000000    418.000000    224.000000    106.000000     62.000000   \n",
       "max    68079.000000  58824.000000  43404.000000  32345.000000  26767.000000   \n",
       "\n",
       "               2001  \n",
       "count    773.000000  \n",
       "mean     349.142303  \n",
       "std     1342.884560  \n",
       "min        0.000000  \n",
       "25%        0.000000  \n",
       "50%        0.000000  \n",
       "75%       36.000000  \n",
       "max    15737.000000  "
      ]
     },
     "execution_count": 108,
     "metadata": {},
     "output_type": "execute_result"
    }
   ],
   "source": [
    "carSalesDf.describe()"
   ]
  },
  {
   "cell_type": "markdown",
   "metadata": {},
   "source": [
    "Column values all make sense"
   ]
  },
  {
   "cell_type": "markdown",
   "metadata": {},
   "source": [
    "No issues with structure nor accuracy for the `carSalesDf`"
   ]
  },
  {
   "cell_type": "markdown",
   "metadata": {},
   "source": [
    "### Assessing `fuelPricseDf`"
   ]
  },
  {
   "cell_type": "code",
   "execution_count": 109,
   "metadata": {},
   "outputs": [
    {
     "name": "stdout",
     "output_type": "stream",
     "text": [
      "<class 'pandas.core.frame.DataFrame'>\n",
      "RangeIndex: 909 entries, 0 to 908\n",
      "Data columns (total 8 columns):\n",
      " #   Column                            Non-Null Count  Dtype  \n",
      "---  ------                            --------------  -----  \n",
      " 0   Unnamed: 0                        909 non-null    int64  \n",
      " 1   Date                              909 non-null    object \n",
      " 2   Pump price in pence/litre (ULSP)  909 non-null    float64\n",
      " 3   Pump price in pence/litre (ULSD)  909 non-null    float64\n",
      " 4   Duty rate in pence/litre (ULSP)   909 non-null    float64\n",
      " 5   Duty rate in pence/litre (ULSD)   909 non-null    float64\n",
      " 6   VAT percentage rate (ULSP)        909 non-null    float64\n",
      " 7   VAT percentage rate (ULSD)        909 non-null    float64\n",
      "dtypes: float64(6), int64(1), object(1)\n",
      "memory usage: 56.9+ KB\n"
     ]
    }
   ],
   "source": [
    "fuelPricesDf.info()"
   ]
  },
  {
   "cell_type": "markdown",
   "metadata": {},
   "source": [
    "No Null Data"
   ]
  },
  {
   "cell_type": "code",
   "execution_count": 110,
   "metadata": {},
   "outputs": [
    {
     "data": {
      "text/html": [
       "<div>\n",
       "<style scoped>\n",
       "    .dataframe tbody tr th:only-of-type {\n",
       "        vertical-align: middle;\n",
       "    }\n",
       "\n",
       "    .dataframe tbody tr th {\n",
       "        vertical-align: top;\n",
       "    }\n",
       "\n",
       "    .dataframe thead th {\n",
       "        text-align: right;\n",
       "    }\n",
       "</style>\n",
       "<table border=\"1\" class=\"dataframe\">\n",
       "  <thead>\n",
       "    <tr style=\"text-align: right;\">\n",
       "      <th></th>\n",
       "      <th>Unnamed: 0</th>\n",
       "      <th>Date</th>\n",
       "      <th>Pump price in pence/litre (ULSP)</th>\n",
       "      <th>Pump price in pence/litre (ULSD)</th>\n",
       "      <th>Duty rate in pence/litre (ULSP)</th>\n",
       "      <th>Duty rate in pence/litre (ULSD)</th>\n",
       "      <th>VAT percentage rate (ULSP)</th>\n",
       "      <th>VAT percentage rate (ULSD)</th>\n",
       "    </tr>\n",
       "  </thead>\n",
       "  <tbody>\n",
       "    <tr>\n",
       "      <th>0</th>\n",
       "      <td>2</td>\n",
       "      <td>09/06/2003</td>\n",
       "      <td>74.59</td>\n",
       "      <td>76.77</td>\n",
       "      <td>45.82</td>\n",
       "      <td>45.82</td>\n",
       "      <td>17.5</td>\n",
       "      <td>17.5</td>\n",
       "    </tr>\n",
       "    <tr>\n",
       "      <th>1</th>\n",
       "      <td>3</td>\n",
       "      <td>16/06/2003</td>\n",
       "      <td>74.47</td>\n",
       "      <td>76.69</td>\n",
       "      <td>45.82</td>\n",
       "      <td>45.82</td>\n",
       "      <td>17.5</td>\n",
       "      <td>17.5</td>\n",
       "    </tr>\n",
       "    <tr>\n",
       "      <th>2</th>\n",
       "      <td>4</td>\n",
       "      <td>23/06/2003</td>\n",
       "      <td>74.42</td>\n",
       "      <td>76.62</td>\n",
       "      <td>45.82</td>\n",
       "      <td>45.82</td>\n",
       "      <td>17.5</td>\n",
       "      <td>17.5</td>\n",
       "    </tr>\n",
       "    <tr>\n",
       "      <th>3</th>\n",
       "      <td>5</td>\n",
       "      <td>30/06/2003</td>\n",
       "      <td>74.35</td>\n",
       "      <td>76.51</td>\n",
       "      <td>45.82</td>\n",
       "      <td>45.82</td>\n",
       "      <td>17.5</td>\n",
       "      <td>17.5</td>\n",
       "    </tr>\n",
       "    <tr>\n",
       "      <th>4</th>\n",
       "      <td>6</td>\n",
       "      <td>07/07/2003</td>\n",
       "      <td>74.28</td>\n",
       "      <td>76.46</td>\n",
       "      <td>45.82</td>\n",
       "      <td>45.82</td>\n",
       "      <td>17.5</td>\n",
       "      <td>17.5</td>\n",
       "    </tr>\n",
       "  </tbody>\n",
       "</table>\n",
       "</div>"
      ],
      "text/plain": [
       "   Unnamed: 0        Date  Pump price in pence/litre (ULSP)  \\\n",
       "0           2  09/06/2003                             74.59   \n",
       "1           3  16/06/2003                             74.47   \n",
       "2           4  23/06/2003                             74.42   \n",
       "3           5  30/06/2003                             74.35   \n",
       "4           6  07/07/2003                             74.28   \n",
       "\n",
       "   Pump price in pence/litre (ULSD)  Duty rate in pence/litre (ULSP)  \\\n",
       "0                             76.77                            45.82   \n",
       "1                             76.69                            45.82   \n",
       "2                             76.62                            45.82   \n",
       "3                             76.51                            45.82   \n",
       "4                             76.46                            45.82   \n",
       "\n",
       "   Duty rate in pence/litre (ULSD)  VAT percentage rate (ULSP)  \\\n",
       "0                            45.82                        17.5   \n",
       "1                            45.82                        17.5   \n",
       "2                            45.82                        17.5   \n",
       "3                            45.82                        17.5   \n",
       "4                            45.82                        17.5   \n",
       "\n",
       "   VAT percentage rate (ULSD)  \n",
       "0                        17.5  \n",
       "1                        17.5  \n",
       "2                        17.5  \n",
       "3                        17.5  \n",
       "4                        17.5  "
      ]
     },
     "execution_count": 110,
     "metadata": {},
     "output_type": "execute_result"
    }
   ],
   "source": [
    "fuelPricesDf.head()"
   ]
  },
  {
   "cell_type": "markdown",
   "metadata": {},
   "source": [
    "Some issues with the columns."
   ]
  },
  {
   "cell_type": "code",
   "execution_count": 111,
   "metadata": {},
   "outputs": [
    {
     "data": {
      "text/plain": [
       "0"
      ]
     },
     "execution_count": 111,
     "metadata": {},
     "output_type": "execute_result"
    }
   ],
   "source": [
    "fuelPricesDf.duplicated().sum()"
   ]
  },
  {
   "cell_type": "markdown",
   "metadata": {},
   "source": [
    "No duplicated data"
   ]
  },
  {
   "cell_type": "code",
   "execution_count": 112,
   "metadata": {},
   "outputs": [
    {
     "data": {
      "text/html": [
       "<div>\n",
       "<style scoped>\n",
       "    .dataframe tbody tr th:only-of-type {\n",
       "        vertical-align: middle;\n",
       "    }\n",
       "\n",
       "    .dataframe tbody tr th {\n",
       "        vertical-align: top;\n",
       "    }\n",
       "\n",
       "    .dataframe thead th {\n",
       "        text-align: right;\n",
       "    }\n",
       "</style>\n",
       "<table border=\"1\" class=\"dataframe\">\n",
       "  <thead>\n",
       "    <tr style=\"text-align: right;\">\n",
       "      <th></th>\n",
       "      <th>Unnamed: 0</th>\n",
       "      <th>Pump price in pence/litre (ULSP)</th>\n",
       "      <th>Pump price in pence/litre (ULSD)</th>\n",
       "      <th>Duty rate in pence/litre (ULSP)</th>\n",
       "      <th>Duty rate in pence/litre (ULSD)</th>\n",
       "      <th>VAT percentage rate (ULSP)</th>\n",
       "      <th>VAT percentage rate (ULSD)</th>\n",
       "    </tr>\n",
       "  </thead>\n",
       "  <tbody>\n",
       "    <tr>\n",
       "      <th>count</th>\n",
       "      <td>909.000000</td>\n",
       "      <td>909.000000</td>\n",
       "      <td>909.000000</td>\n",
       "      <td>909.000000</td>\n",
       "      <td>909.000000</td>\n",
       "      <td>909.000000</td>\n",
       "      <td>909.000000</td>\n",
       "    </tr>\n",
       "    <tr>\n",
       "      <th>mean</th>\n",
       "      <td>456.000000</td>\n",
       "      <td>111.090583</td>\n",
       "      <td>115.631617</td>\n",
       "      <td>54.523080</td>\n",
       "      <td>54.523080</td>\n",
       "      <td>18.754125</td>\n",
       "      <td>18.754125</td>\n",
       "    </tr>\n",
       "    <tr>\n",
       "      <th>std</th>\n",
       "      <td>262.549995</td>\n",
       "      <td>18.308105</td>\n",
       "      <td>19.414181</td>\n",
       "      <td>4.664805</td>\n",
       "      <td>4.664805</td>\n",
       "      <td>1.532611</td>\n",
       "      <td>1.532611</td>\n",
       "    </tr>\n",
       "    <tr>\n",
       "      <th>min</th>\n",
       "      <td>2.000000</td>\n",
       "      <td>74.210000</td>\n",
       "      <td>76.410000</td>\n",
       "      <td>45.820000</td>\n",
       "      <td>45.820000</td>\n",
       "      <td>15.000000</td>\n",
       "      <td>15.000000</td>\n",
       "    </tr>\n",
       "    <tr>\n",
       "      <th>25%</th>\n",
       "      <td>229.000000</td>\n",
       "      <td>95.710000</td>\n",
       "      <td>99.180000</td>\n",
       "      <td>50.350000</td>\n",
       "      <td>50.350000</td>\n",
       "      <td>17.500000</td>\n",
       "      <td>17.500000</td>\n",
       "    </tr>\n",
       "    <tr>\n",
       "      <th>50%</th>\n",
       "      <td>456.000000</td>\n",
       "      <td>113.720000</td>\n",
       "      <td>118.110000</td>\n",
       "      <td>57.950000</td>\n",
       "      <td>57.950000</td>\n",
       "      <td>20.000000</td>\n",
       "      <td>20.000000</td>\n",
       "    </tr>\n",
       "    <tr>\n",
       "      <th>75%</th>\n",
       "      <td>683.000000</td>\n",
       "      <td>127.540000</td>\n",
       "      <td>132.600000</td>\n",
       "      <td>57.950000</td>\n",
       "      <td>57.950000</td>\n",
       "      <td>20.000000</td>\n",
       "      <td>20.000000</td>\n",
       "    </tr>\n",
       "    <tr>\n",
       "      <th>max</th>\n",
       "      <td>910.000000</td>\n",
       "      <td>142.170000</td>\n",
       "      <td>148.040000</td>\n",
       "      <td>58.950000</td>\n",
       "      <td>58.950000</td>\n",
       "      <td>20.000000</td>\n",
       "      <td>20.000000</td>\n",
       "    </tr>\n",
       "  </tbody>\n",
       "</table>\n",
       "</div>"
      ],
      "text/plain": [
       "       Unnamed: 0  Pump price in pence/litre (ULSP)  \\\n",
       "count  909.000000                        909.000000   \n",
       "mean   456.000000                        111.090583   \n",
       "std    262.549995                         18.308105   \n",
       "min      2.000000                         74.210000   \n",
       "25%    229.000000                         95.710000   \n",
       "50%    456.000000                        113.720000   \n",
       "75%    683.000000                        127.540000   \n",
       "max    910.000000                        142.170000   \n",
       "\n",
       "       Pump price in pence/litre (ULSD)  Duty rate in pence/litre (ULSP)  \\\n",
       "count                        909.000000                       909.000000   \n",
       "mean                         115.631617                        54.523080   \n",
       "std                           19.414181                         4.664805   \n",
       "min                           76.410000                        45.820000   \n",
       "25%                           99.180000                        50.350000   \n",
       "50%                          118.110000                        57.950000   \n",
       "75%                          132.600000                        57.950000   \n",
       "max                          148.040000                        58.950000   \n",
       "\n",
       "       Duty rate in pence/litre (ULSD)  VAT percentage rate (ULSP)  \\\n",
       "count                       909.000000                  909.000000   \n",
       "mean                         54.523080                   18.754125   \n",
       "std                           4.664805                    1.532611   \n",
       "min                          45.820000                   15.000000   \n",
       "25%                          50.350000                   17.500000   \n",
       "50%                          57.950000                   20.000000   \n",
       "75%                          57.950000                   20.000000   \n",
       "max                          58.950000                   20.000000   \n",
       "\n",
       "       VAT percentage rate (ULSD)  \n",
       "count                  909.000000  \n",
       "mean                    18.754125  \n",
       "std                      1.532611  \n",
       "min                     15.000000  \n",
       "25%                     17.500000  \n",
       "50%                     20.000000  \n",
       "75%                     20.000000  \n",
       "max                     20.000000  "
      ]
     },
     "execution_count": 112,
     "metadata": {},
     "output_type": "execute_result"
    }
   ],
   "source": [
    "fuelPricesDf.describe()"
   ]
  },
  {
   "cell_type": "markdown",
   "metadata": {},
   "source": [
    "No issues with accuracy"
   ]
  },
  {
   "cell_type": "markdown",
   "metadata": {
    "id": "adaK2iPNzVu4"
   },
   "source": [
    "### Quality Issue 1:"
   ]
  },
  {
   "cell_type": "code",
   "execution_count": 113,
   "metadata": {
    "id": "SpW59kh-zl8d"
   },
   "outputs": [
    {
     "data": {
      "text/plain": [
       "dtype('O')"
      ]
     },
     "execution_count": 113,
     "metadata": {},
     "output_type": "execute_result"
    }
   ],
   "source": [
    "fuelPricesDf['Date'].dtype"
   ]
  },
  {
   "cell_type": "code",
   "execution_count": 114,
   "metadata": {
    "id": "-qfcocStzsKg"
   },
   "outputs": [
    {
     "data": {
      "text/plain": [
       "str"
      ]
     },
     "execution_count": 114,
     "metadata": {},
     "output_type": "execute_result"
    }
   ],
   "source": [
    "type(fuelPricesDf['Date'][0])"
   ]
  },
  {
   "cell_type": "markdown",
   "metadata": {},
   "source": [
    "The `Date` Column is a string, when it should be a datetime. Optimally, to better answer the question, the column should contain only the year."
   ]
  },
  {
   "cell_type": "markdown",
   "metadata": {
    "id": "8Be77N4I1AmE"
   },
   "source": [
    "### Quality Issue 2:"
   ]
  },
  {
   "cell_type": "code",
   "execution_count": 115,
   "metadata": {
    "id": "iMhHyiyLM2I3"
   },
   "outputs": [
    {
     "data": {
      "text/plain": [
       "dtype('float64')"
      ]
     },
     "execution_count": 115,
     "metadata": {},
     "output_type": "execute_result"
    }
   ],
   "source": [
    "fuelPricesDf['Pump price in pence/litre (ULSP)'].dtype"
   ]
  },
  {
   "cell_type": "code",
   "execution_count": 116,
   "metadata": {},
   "outputs": [
    {
     "data": {
      "text/plain": [
       "dtype('float64')"
      ]
     },
     "execution_count": 116,
     "metadata": {},
     "output_type": "execute_result"
    }
   ],
   "source": [
    "fuelPricesDf['Pump price in pence/litre (ULSD)'].dtype"
   ]
  },
  {
   "cell_type": "markdown",
   "metadata": {},
   "source": [
    "Instead of using a float to represent the pump prices, they should be represented as integers to help with calculations as well as help reduce with lowering memory."
   ]
  },
  {
   "cell_type": "markdown",
   "metadata": {
    "id": "lXhGiYyiwwKN"
   },
   "source": [
    "### Tidiness Issue 1:"
   ]
  },
  {
   "cell_type": "code",
   "execution_count": 117,
   "metadata": {
    "id": "fleC5rORI0Xl"
   },
   "outputs": [
    {
     "data": {
      "text/html": [
       "<div>\n",
       "<style scoped>\n",
       "    .dataframe tbody tr th:only-of-type {\n",
       "        vertical-align: middle;\n",
       "    }\n",
       "\n",
       "    .dataframe tbody tr th {\n",
       "        vertical-align: top;\n",
       "    }\n",
       "\n",
       "    .dataframe thead th {\n",
       "        text-align: right;\n",
       "    }\n",
       "</style>\n",
       "<table border=\"1\" class=\"dataframe\">\n",
       "  <thead>\n",
       "    <tr style=\"text-align: right;\">\n",
       "      <th></th>\n",
       "      <th>Unnamed: 0</th>\n",
       "      <th>Date</th>\n",
       "      <th>Pump price in pence/litre (ULSP)</th>\n",
       "      <th>Pump price in pence/litre (ULSD)</th>\n",
       "      <th>Duty rate in pence/litre (ULSP)</th>\n",
       "      <th>Duty rate in pence/litre (ULSD)</th>\n",
       "      <th>VAT percentage rate (ULSP)</th>\n",
       "      <th>VAT percentage rate (ULSD)</th>\n",
       "    </tr>\n",
       "  </thead>\n",
       "  <tbody>\n",
       "    <tr>\n",
       "      <th>0</th>\n",
       "      <td>2</td>\n",
       "      <td>09/06/2003</td>\n",
       "      <td>74.59</td>\n",
       "      <td>76.77</td>\n",
       "      <td>45.82</td>\n",
       "      <td>45.82</td>\n",
       "      <td>17.5</td>\n",
       "      <td>17.5</td>\n",
       "    </tr>\n",
       "    <tr>\n",
       "      <th>1</th>\n",
       "      <td>3</td>\n",
       "      <td>16/06/2003</td>\n",
       "      <td>74.47</td>\n",
       "      <td>76.69</td>\n",
       "      <td>45.82</td>\n",
       "      <td>45.82</td>\n",
       "      <td>17.5</td>\n",
       "      <td>17.5</td>\n",
       "    </tr>\n",
       "    <tr>\n",
       "      <th>2</th>\n",
       "      <td>4</td>\n",
       "      <td>23/06/2003</td>\n",
       "      <td>74.42</td>\n",
       "      <td>76.62</td>\n",
       "      <td>45.82</td>\n",
       "      <td>45.82</td>\n",
       "      <td>17.5</td>\n",
       "      <td>17.5</td>\n",
       "    </tr>\n",
       "    <tr>\n",
       "      <th>3</th>\n",
       "      <td>5</td>\n",
       "      <td>30/06/2003</td>\n",
       "      <td>74.35</td>\n",
       "      <td>76.51</td>\n",
       "      <td>45.82</td>\n",
       "      <td>45.82</td>\n",
       "      <td>17.5</td>\n",
       "      <td>17.5</td>\n",
       "    </tr>\n",
       "    <tr>\n",
       "      <th>4</th>\n",
       "      <td>6</td>\n",
       "      <td>07/07/2003</td>\n",
       "      <td>74.28</td>\n",
       "      <td>76.46</td>\n",
       "      <td>45.82</td>\n",
       "      <td>45.82</td>\n",
       "      <td>17.5</td>\n",
       "      <td>17.5</td>\n",
       "    </tr>\n",
       "  </tbody>\n",
       "</table>\n",
       "</div>"
      ],
      "text/plain": [
       "   Unnamed: 0        Date  Pump price in pence/litre (ULSP)  \\\n",
       "0           2  09/06/2003                             74.59   \n",
       "1           3  16/06/2003                             74.47   \n",
       "2           4  23/06/2003                             74.42   \n",
       "3           5  30/06/2003                             74.35   \n",
       "4           6  07/07/2003                             74.28   \n",
       "\n",
       "   Pump price in pence/litre (ULSD)  Duty rate in pence/litre (ULSP)  \\\n",
       "0                             76.77                            45.82   \n",
       "1                             76.69                            45.82   \n",
       "2                             76.62                            45.82   \n",
       "3                             76.51                            45.82   \n",
       "4                             76.46                            45.82   \n",
       "\n",
       "   Duty rate in pence/litre (ULSD)  VAT percentage rate (ULSP)  \\\n",
       "0                            45.82                        17.5   \n",
       "1                            45.82                        17.5   \n",
       "2                            45.82                        17.5   \n",
       "3                            45.82                        17.5   \n",
       "4                            45.82                        17.5   \n",
       "\n",
       "   VAT percentage rate (ULSD)  \n",
       "0                        17.5  \n",
       "1                        17.5  \n",
       "2                        17.5  \n",
       "3                        17.5  \n",
       "4                        17.5  "
      ]
     },
     "execution_count": 117,
     "metadata": {},
     "output_type": "execute_result"
    }
   ],
   "source": [
    "fuelPricesDf.head()"
   ]
  },
  {
   "cell_type": "markdown",
   "metadata": {},
   "source": [
    "The `Unamed: 0` Column is just an extra column to represent the index, it is not needed and should be dropped, as there is already an index column."
   ]
  },
  {
   "cell_type": "markdown",
   "metadata": {
    "id": "4ffMoRGSwzYj"
   },
   "source": [
    "### Tidiness Issue 2: "
   ]
  },
  {
   "cell_type": "code",
   "execution_count": 118,
   "metadata": {
    "id": "XUpeoqokw5Qt"
   },
   "outputs": [
    {
     "data": {
      "text/html": [
       "<div>\n",
       "<style scoped>\n",
       "    .dataframe tbody tr th:only-of-type {\n",
       "        vertical-align: middle;\n",
       "    }\n",
       "\n",
       "    .dataframe tbody tr th {\n",
       "        vertical-align: top;\n",
       "    }\n",
       "\n",
       "    .dataframe thead th {\n",
       "        text-align: right;\n",
       "    }\n",
       "</style>\n",
       "<table border=\"1\" class=\"dataframe\">\n",
       "  <thead>\n",
       "    <tr style=\"text-align: right;\">\n",
       "      <th></th>\n",
       "      <th>Unnamed: 0</th>\n",
       "      <th>Date</th>\n",
       "      <th>Pump price in pence/litre (ULSP)</th>\n",
       "      <th>Pump price in pence/litre (ULSD)</th>\n",
       "      <th>Duty rate in pence/litre (ULSP)</th>\n",
       "      <th>Duty rate in pence/litre (ULSD)</th>\n",
       "      <th>VAT percentage rate (ULSP)</th>\n",
       "      <th>VAT percentage rate (ULSD)</th>\n",
       "    </tr>\n",
       "  </thead>\n",
       "  <tbody>\n",
       "    <tr>\n",
       "      <th>0</th>\n",
       "      <td>2</td>\n",
       "      <td>09/06/2003</td>\n",
       "      <td>74.59</td>\n",
       "      <td>76.77</td>\n",
       "      <td>45.82</td>\n",
       "      <td>45.82</td>\n",
       "      <td>17.5</td>\n",
       "      <td>17.5</td>\n",
       "    </tr>\n",
       "  </tbody>\n",
       "</table>\n",
       "</div>"
      ],
      "text/plain": [
       "   Unnamed: 0        Date  Pump price in pence/litre (ULSP)  \\\n",
       "0           2  09/06/2003                             74.59   \n",
       "\n",
       "   Pump price in pence/litre (ULSD)  Duty rate in pence/litre (ULSP)  \\\n",
       "0                             76.77                            45.82   \n",
       "\n",
       "   Duty rate in pence/litre (ULSD)  VAT percentage rate (ULSP)  \\\n",
       "0                            45.82                        17.5   \n",
       "\n",
       "   VAT percentage rate (ULSD)  \n",
       "0                        17.5  "
      ]
     },
     "execution_count": 118,
     "metadata": {},
     "output_type": "execute_result"
    }
   ],
   "source": [
    "fuelPricesDf.head(1)"
   ]
  },
  {
   "cell_type": "markdown",
   "metadata": {},
   "source": [
    "The extra columns containing the tax information about importing the petrol are not necessary for calculating the necessary information for answering the question."
   ]
  },
  {
   "cell_type": "markdown",
   "metadata": {},
   "source": [
    "### Tidiness Issue 3: "
   ]
  },
  {
   "cell_type": "code",
   "execution_count": 119,
   "metadata": {},
   "outputs": [
    {
     "data": {
      "text/html": [
       "<div>\n",
       "<style scoped>\n",
       "    .dataframe tbody tr th:only-of-type {\n",
       "        vertical-align: middle;\n",
       "    }\n",
       "\n",
       "    .dataframe tbody tr th {\n",
       "        vertical-align: top;\n",
       "    }\n",
       "\n",
       "    .dataframe thead th {\n",
       "        text-align: right;\n",
       "    }\n",
       "</style>\n",
       "<table border=\"1\" class=\"dataframe\">\n",
       "  <thead>\n",
       "    <tr style=\"text-align: right;\">\n",
       "      <th></th>\n",
       "      <th>Unnamed: 0</th>\n",
       "      <th>Date</th>\n",
       "      <th>Pump price in pence/litre (ULSP)</th>\n",
       "      <th>Pump price in pence/litre (ULSD)</th>\n",
       "      <th>Duty rate in pence/litre (ULSP)</th>\n",
       "      <th>Duty rate in pence/litre (ULSD)</th>\n",
       "      <th>VAT percentage rate (ULSP)</th>\n",
       "      <th>VAT percentage rate (ULSD)</th>\n",
       "    </tr>\n",
       "  </thead>\n",
       "  <tbody>\n",
       "    <tr>\n",
       "      <th>0</th>\n",
       "      <td>2</td>\n",
       "      <td>09/06/2003</td>\n",
       "      <td>74.59</td>\n",
       "      <td>76.77</td>\n",
       "      <td>45.82</td>\n",
       "      <td>45.82</td>\n",
       "      <td>17.5</td>\n",
       "      <td>17.5</td>\n",
       "    </tr>\n",
       "  </tbody>\n",
       "</table>\n",
       "</div>"
      ],
      "text/plain": [
       "   Unnamed: 0        Date  Pump price in pence/litre (ULSP)  \\\n",
       "0           2  09/06/2003                             74.59   \n",
       "\n",
       "   Pump price in pence/litre (ULSD)  Duty rate in pence/litre (ULSP)  \\\n",
       "0                             76.77                            45.82   \n",
       "\n",
       "   Duty rate in pence/litre (ULSD)  VAT percentage rate (ULSP)  \\\n",
       "0                            45.82                        17.5   \n",
       "\n",
       "   VAT percentage rate (ULSD)  \n",
       "0                        17.5  "
      ]
     },
     "execution_count": 119,
     "metadata": {},
     "output_type": "execute_result"
    }
   ],
   "source": [
    "fuelPricesDf.head(1)"
   ]
  },
  {
   "cell_type": "markdown",
   "metadata": {},
   "source": [
    "The columns that will be used `Pump price in pence/litre (ULSP)` and `Pump price in pence/litre (ULSD)` should be renamed to a more concise name"
   ]
  },
  {
   "cell_type": "markdown",
   "metadata": {
    "id": "D6gmLnBttpCh"
   },
   "source": [
    "## 3. Clean data\n"
   ]
  },
  {
   "cell_type": "code",
   "execution_count": 120,
   "metadata": {},
   "outputs": [],
   "source": [
    "fuelPricesDfClean = fuelPricesDf.copy()"
   ]
  },
  {
   "cell_type": "markdown",
   "metadata": {
    "id": "FmFhN52Yyn3l"
   },
   "source": [
    "### **Quality Issue 1: Changing the `Date` column into a `Year` Column**"
   ]
  },
  {
   "cell_type": "code",
   "execution_count": 121,
   "metadata": {
    "id": "9UejDWrNMW4a"
   },
   "outputs": [],
   "source": [
    "fuelPricesDfClean['Year'] = fuelPricesDfClean['Date'].apply(lambda x: x.split(\"/\")[-1])"
   ]
  },
  {
   "cell_type": "code",
   "execution_count": 122,
   "metadata": {},
   "outputs": [],
   "source": [
    "fuelPricesDfClean['Year'] = fuelPricesDfClean['Year'].astype(int)"
   ]
  },
  {
   "cell_type": "code",
   "execution_count": 123,
   "metadata": {},
   "outputs": [],
   "source": [
    "fuelPricesDfClean.drop(['Date'],axis=1,inplace=True)"
   ]
  },
  {
   "cell_type": "code",
   "execution_count": 124,
   "metadata": {},
   "outputs": [
    {
     "name": "stdout",
     "output_type": "stream",
     "text": [
      "<class 'pandas.core.frame.DataFrame'>\n",
      "RangeIndex: 909 entries, 0 to 908\n",
      "Data columns (total 8 columns):\n",
      " #   Column                            Non-Null Count  Dtype  \n",
      "---  ------                            --------------  -----  \n",
      " 0   Unnamed: 0                        909 non-null    int64  \n",
      " 1   Pump price in pence/litre (ULSP)  909 non-null    float64\n",
      " 2   Pump price in pence/litre (ULSD)  909 non-null    float64\n",
      " 3   Duty rate in pence/litre (ULSP)   909 non-null    float64\n",
      " 4   Duty rate in pence/litre (ULSD)   909 non-null    float64\n",
      " 5   VAT percentage rate (ULSP)        909 non-null    float64\n",
      " 6   VAT percentage rate (ULSD)        909 non-null    float64\n",
      " 7   Year                              909 non-null    int32  \n",
      "dtypes: float64(6), int32(1), int64(1)\n",
      "memory usage: 53.4 KB\n"
     ]
    }
   ],
   "source": [
    "fuelPricesDfClean.info()"
   ]
  },
  {
   "cell_type": "markdown",
   "metadata": {},
   "source": [
    "It makes dealing with data a lot easier since the idea is to get fuel prices on a yearly basis"
   ]
  },
  {
   "cell_type": "markdown",
   "metadata": {
    "id": "n_DAUbJrymBL"
   },
   "source": [
    "### **Quality Issue 2: Converting the useful columns from float to int to help with calculations and reduce memory**"
   ]
  },
  {
   "cell_type": "code",
   "execution_count": 125,
   "metadata": {
    "id": "5Yfb-Yu5MTuE"
   },
   "outputs": [],
   "source": [
    "fuelPricesDfClean['Pump price in pence/litre (ULSP)'] = fuelPricesDfClean['Pump price in pence/litre (ULSP)'].astype(int)"
   ]
  },
  {
   "cell_type": "code",
   "execution_count": 126,
   "metadata": {
    "id": "ionB2sRaMUmY"
   },
   "outputs": [],
   "source": [
    "fuelPricesDfClean['Pump price in pence/litre (ULSD)'] = fuelPricesDfClean['Pump price in pence/litre (ULSD)'].astype(int)"
   ]
  },
  {
   "cell_type": "code",
   "execution_count": 127,
   "metadata": {},
   "outputs": [
    {
     "name": "stdout",
     "output_type": "stream",
     "text": [
      "<class 'pandas.core.frame.DataFrame'>\n",
      "RangeIndex: 909 entries, 0 to 908\n",
      "Data columns (total 8 columns):\n",
      " #   Column                            Non-Null Count  Dtype  \n",
      "---  ------                            --------------  -----  \n",
      " 0   Unnamed: 0                        909 non-null    int64  \n",
      " 1   Pump price in pence/litre (ULSP)  909 non-null    int32  \n",
      " 2   Pump price in pence/litre (ULSD)  909 non-null    int32  \n",
      " 3   Duty rate in pence/litre (ULSP)   909 non-null    float64\n",
      " 4   Duty rate in pence/litre (ULSD)   909 non-null    float64\n",
      " 5   VAT percentage rate (ULSP)        909 non-null    float64\n",
      " 6   VAT percentage rate (ULSD)        909 non-null    float64\n",
      " 7   Year                              909 non-null    int32  \n",
      "dtypes: float64(4), int32(3), int64(1)\n",
      "memory usage: 46.3 KB\n"
     ]
    }
   ],
   "source": [
    "fuelPricesDfClean.info()"
   ]
  },
  {
   "cell_type": "markdown",
   "metadata": {},
   "source": [
    "Converting these two columns to an integer will help with calculations and help with reducing memory"
   ]
  },
  {
   "cell_type": "markdown",
   "metadata": {
    "id": "bIUrrfSNyOPR"
   },
   "source": [
    "### **Tidiness Issue 1: Removal of purposeless column that used to represent indexes**"
   ]
  },
  {
   "cell_type": "code",
   "execution_count": 128,
   "metadata": {
    "id": "fib0zAm333bn"
   },
   "outputs": [],
   "source": [
    "fuelPricesDfClean.drop(['Unnamed: 0'],axis=1,inplace=True)"
   ]
  },
  {
   "cell_type": "code",
   "execution_count": 129,
   "metadata": {
    "id": "yhrnUGY_Nk8B"
   },
   "outputs": [
    {
     "name": "stdout",
     "output_type": "stream",
     "text": [
      "<class 'pandas.core.frame.DataFrame'>\n",
      "RangeIndex: 909 entries, 0 to 908\n",
      "Data columns (total 7 columns):\n",
      " #   Column                            Non-Null Count  Dtype  \n",
      "---  ------                            --------------  -----  \n",
      " 0   Pump price in pence/litre (ULSP)  909 non-null    int32  \n",
      " 1   Pump price in pence/litre (ULSD)  909 non-null    int32  \n",
      " 2   Duty rate in pence/litre (ULSP)   909 non-null    float64\n",
      " 3   Duty rate in pence/litre (ULSD)   909 non-null    float64\n",
      " 4   VAT percentage rate (ULSP)        909 non-null    float64\n",
      " 5   VAT percentage rate (ULSD)        909 non-null    float64\n",
      " 6   Year                              909 non-null    int32  \n",
      "dtypes: float64(4), int32(3)\n",
      "memory usage: 39.2 KB\n"
     ]
    }
   ],
   "source": [
    "fuelPricesDfClean.info()"
   ]
  },
  {
   "cell_type": "markdown",
   "metadata": {},
   "source": [
    "The `Unnamed: 0` column is caused by an accidental saving of the dataset while including the index, it serves no purpose"
   ]
  },
  {
   "cell_type": "markdown",
   "metadata": {
    "id": "o51Bt8kwyTzk"
   },
   "source": [
    "### **Tidiness Issue 2: Removing the unnecessary columns**"
   ]
  },
  {
   "cell_type": "code",
   "execution_count": 130,
   "metadata": {
    "id": "7zW8O5yx4Y9O"
   },
   "outputs": [],
   "source": [
    "fuelPricesDfClean.drop(['Duty rate in pence/litre (ULSP)','Duty rate in pence/litre (ULSD)','VAT percentage rate (ULSP)','VAT percentage rate (ULSD)'],axis=1,inplace=True)"
   ]
  },
  {
   "cell_type": "code",
   "execution_count": 131,
   "metadata": {
    "id": "q6I_Sr7lxXi5"
   },
   "outputs": [
    {
     "name": "stdout",
     "output_type": "stream",
     "text": [
      "<class 'pandas.core.frame.DataFrame'>\n",
      "RangeIndex: 909 entries, 0 to 908\n",
      "Data columns (total 3 columns):\n",
      " #   Column                            Non-Null Count  Dtype\n",
      "---  ------                            --------------  -----\n",
      " 0   Pump price in pence/litre (ULSP)  909 non-null    int32\n",
      " 1   Pump price in pence/litre (ULSD)  909 non-null    int32\n",
      " 2   Year                              909 non-null    int32\n",
      "dtypes: int32(3)\n",
      "memory usage: 10.8 KB\n"
     ]
    }
   ],
   "source": [
    "fuelPricesDfClean.info()"
   ]
  },
  {
   "cell_type": "markdown",
   "metadata": {},
   "source": [
    "Although the previously mentioned columns can help provide some information about where fuel prices come from, they are not necessary for answering the question."
   ]
  },
  {
   "cell_type": "markdown",
   "metadata": {},
   "source": [
    "### Tidiness Issue 3: Renaming some of the long formated columns into something more concise"
   ]
  },
  {
   "cell_type": "code",
   "execution_count": 132,
   "metadata": {},
   "outputs": [],
   "source": [
    "fuelPricesDfClean.rename(columns={'Pump price in pence/litre (ULSP)': 'ULSP', 'Pump price in pence/litre (ULSD)':'ULSD'},inplace=True)"
   ]
  },
  {
   "cell_type": "code",
   "execution_count": 133,
   "metadata": {},
   "outputs": [
    {
     "name": "stdout",
     "output_type": "stream",
     "text": [
      "<class 'pandas.core.frame.DataFrame'>\n",
      "RangeIndex: 909 entries, 0 to 908\n",
      "Data columns (total 3 columns):\n",
      " #   Column  Non-Null Count  Dtype\n",
      "---  ------  --------------  -----\n",
      " 0   ULSP    909 non-null    int32\n",
      " 1   ULSD    909 non-null    int32\n",
      " 2   Year    909 non-null    int32\n",
      "dtypes: int32(3)\n",
      "memory usage: 10.8 KB\n"
     ]
    }
   ],
   "source": [
    "fuelPricesDfClean.info()"
   ]
  },
  {
   "cell_type": "markdown",
   "metadata": {},
   "source": [
    "### Combining Datasets"
   ]
  },
  {
   "cell_type": "code",
   "execution_count": 135,
   "metadata": {},
   "outputs": [],
   "source": [
    "combinedDf = pd.concat([fuelPricesDfClean,carSalesDf])# Though combining is not needed"
   ]
  },
  {
   "cell_type": "markdown",
   "metadata": {
    "id": "F42urHuzttjF"
   },
   "source": [
    "## 4. Update the data store"
   ]
  },
  {
   "cell_type": "code",
   "execution_count": 136,
   "metadata": {
    "id": "V3uay7EJUV_L"
   },
   "outputs": [],
   "source": [
    "combinedDf.to_csv('./cleaned.csv')"
   ]
  },
  {
   "cell_type": "code",
   "execution_count": 139,
   "metadata": {},
   "outputs": [],
   "source": [
    "carSalesDf.to_csv('./car_sales_clean.csv')"
   ]
  },
  {
   "cell_type": "code",
   "execution_count": 141,
   "metadata": {},
   "outputs": [],
   "source": [
    "fuelPricesDfClean.to_csv('./fuel_prices_clean.csv')"
   ]
  },
  {
   "cell_type": "markdown",
   "metadata": {
    "id": "cGy_yddGtzhM"
   },
   "source": [
    "## 5. Answer the research question\n",
    "\n",
    "### **5.1:** Defining and answering the research question \n"
   ]
  },
  {
   "cell_type": "markdown",
   "metadata": {
    "id": "gjedE4s4ZkEd"
   },
   "source": [
    "*Research question:* Are car sales are affected by the change in fuel prices?"
   ]
  },
  {
   "cell_type": "code",
   "execution_count": 137,
   "metadata": {
    "id": "Lkw3rW9kZmOm"
   },
   "outputs": [
    {
     "data": {
      "text/plain": [
       "Index(['Maker', 'Genmodel', 'Genmodel_ID', '2020', '2019', '2018', '2017',\n",
       "       '2016', '2015', '2014', '2013', '2012', '2011', '2010', '2009', '2008',\n",
       "       '2007', '2006', '2005', '2004', '2003', '2002', '2001'],\n",
       "      dtype='object')"
      ]
     },
     "execution_count": 137,
     "metadata": {},
     "output_type": "execute_result"
    }
   ],
   "source": [
    "carSalesDf.columns"
   ]
  },
  {
   "cell_type": "code",
   "execution_count": 147,
   "metadata": {},
   "outputs": [],
   "source": [
    "carSalesPerYear = []\n",
    "years=[]\n",
    "\n",
    "for year in range(2001,2021,1):\n",
    "    totalSales = carSalesDf[str(year)].sum()\n",
    "    carSalesPerYear.append(totalSales)\n",
    "    years.append(year)\n",
    "    \n",
    "    "
   ]
  },
  {
   "cell_type": "code",
   "execution_count": 146,
   "metadata": {},
   "outputs": [
    {
     "data": {
      "text/plain": [
       "[269887,\n",
       " 436447,\n",
       " 622347,\n",
       " 818247,\n",
       " 1024944,\n",
       " 1256941,\n",
       " 1527848,\n",
       " 1500885,\n",
       " 1578106,\n",
       " 1674012,\n",
       " 1648030,\n",
       " 1789436,\n",
       " 2032197,\n",
       " 2253307,\n",
       " 2421219,\n",
       " 2476613,\n",
       " 2290444,\n",
       " 2212385,\n",
       " 2178658,\n",
       " 1530118]"
      ]
     },
     "execution_count": 146,
     "metadata": {},
     "output_type": "execute_result"
    }
   ],
   "source": [
    "carSalesPerYear"
   ]
  },
  {
   "cell_type": "code",
   "execution_count": 148,
   "metadata": {},
   "outputs": [
    {
     "data": {
      "text/plain": [
       "[2001,\n",
       " 2002,\n",
       " 2003,\n",
       " 2004,\n",
       " 2005,\n",
       " 2006,\n",
       " 2007,\n",
       " 2008,\n",
       " 2009,\n",
       " 2010,\n",
       " 2011,\n",
       " 2012,\n",
       " 2013,\n",
       " 2014,\n",
       " 2015,\n",
       " 2016,\n",
       " 2017,\n",
       " 2018,\n",
       " 2019,\n",
       " 2020]"
      ]
     },
     "execution_count": 148,
     "metadata": {},
     "output_type": "execute_result"
    }
   ],
   "source": [
    "years"
   ]
  },
  {
   "cell_type": "markdown",
   "metadata": {},
   "source": [
    "##### Total Car Sales every year"
   ]
  },
  {
   "cell_type": "code",
   "execution_count": 160,
   "metadata": {},
   "outputs": [
    {
     "data": {
      "image/png": "[encoded data removed]",
      "text/plain": [
       "<Figure size 2000x500 with 1 Axes>"
      ]
     },
     "metadata": {},
     "output_type": "display_data"
    }
   ],
   "source": [
    "plt.figure(figsize=(20,5))\n",
    "plt.scatter(years,carSalesPerYear)\n",
    "plt.plot(years,carSalesPerYear)\n",
    "plt.title(\"Car sales per year from 2001-2020\")\n",
    "plt.xlabel(\"Years\")\n",
    "plt.ylabel(\"Car Sales\")\n",
    "plt.gca().get_yaxis().set_major_formatter(\n",
    "    ticker.FuncFormatter(lambda x, p: format(int(x), ',')))\n",
    "plt.gca().tick_params(axis='y', labelsize=15)\n",
    "plt.gca().tick_params(axis='x', labelsize=15)\n",
    "plt.xticks(years)\n",
    "\n",
    "plt.show()"
   ]
  },
  {
   "cell_type": "markdown",
   "metadata": {},
   "source": [
    "The trend seems to be throught the years, the number of car sales tended to increase up until 2016 where it decreased slightly. But in 2019-2020 it decrease significantly, it seems to be due to external factors such as the spread of covid-19 and the many quarantines, can be considered an outlier."
   ]
  },
  {
   "cell_type": "code",
   "execution_count": 177,
   "metadata": {},
   "outputs": [
    {
     "data": {
      "text/html": [
       "<div>\n",
       "<style scoped>\n",
       "    .dataframe tbody tr th:only-of-type {\n",
       "        vertical-align: middle;\n",
       "    }\n",
       "\n",
       "    .dataframe tbody tr th {\n",
       "        vertical-align: top;\n",
       "    }\n",
       "\n",
       "    .dataframe thead th {\n",
       "        text-align: right;\n",
       "    }\n",
       "</style>\n",
       "<table border=\"1\" class=\"dataframe\">\n",
       "  <thead>\n",
       "    <tr style=\"text-align: right;\">\n",
       "      <th></th>\n",
       "      <th>ULSP</th>\n",
       "      <th>ULSD</th>\n",
       "    </tr>\n",
       "    <tr>\n",
       "      <th>Year</th>\n",
       "      <th></th>\n",
       "      <th></th>\n",
       "    </tr>\n",
       "  </thead>\n",
       "  <tbody>\n",
       "    <tr>\n",
       "      <th>2003</th>\n",
       "      <td>75.200000</td>\n",
       "      <td>76.700000</td>\n",
       "    </tr>\n",
       "    <tr>\n",
       "      <th>2004</th>\n",
       "      <td>79.807692</td>\n",
       "      <td>81.423077</td>\n",
       "    </tr>\n",
       "    <tr>\n",
       "      <th>2005</th>\n",
       "      <td>86.307692</td>\n",
       "      <td>90.346154</td>\n",
       "    </tr>\n",
       "    <tr>\n",
       "      <th>2006</th>\n",
       "      <td>90.865385</td>\n",
       "      <td>94.596154</td>\n",
       "    </tr>\n",
       "    <tr>\n",
       "      <th>2007</th>\n",
       "      <td>94.037736</td>\n",
       "      <td>96.622642</td>\n",
       "    </tr>\n",
       "    <tr>\n",
       "      <th>2008</th>\n",
       "      <td>106.519231</td>\n",
       "      <td>117.076923</td>\n",
       "    </tr>\n",
       "    <tr>\n",
       "      <th>2009</th>\n",
       "      <td>99.134615</td>\n",
       "      <td>103.634615</td>\n",
       "    </tr>\n",
       "    <tr>\n",
       "      <th>2010</th>\n",
       "      <td>116.326923</td>\n",
       "      <td>118.730769</td>\n",
       "    </tr>\n",
       "    <tr>\n",
       "      <th>2011</th>\n",
       "      <td>132.923077</td>\n",
       "      <td>138.326923</td>\n",
       "    </tr>\n",
       "    <tr>\n",
       "      <th>2012</th>\n",
       "      <td>135.264151</td>\n",
       "      <td>141.679245</td>\n",
       "    </tr>\n",
       "    <tr>\n",
       "      <th>2013</th>\n",
       "      <td>133.865385</td>\n",
       "      <td>140.019231</td>\n",
       "    </tr>\n",
       "    <tr>\n",
       "      <th>2014</th>\n",
       "      <td>126.961538</td>\n",
       "      <td>133.076923</td>\n",
       "    </tr>\n",
       "    <tr>\n",
       "      <th>2015</th>\n",
       "      <td>110.634615</td>\n",
       "      <td>114.538462</td>\n",
       "    </tr>\n",
       "    <tr>\n",
       "      <th>2016</th>\n",
       "      <td>108.480769</td>\n",
       "      <td>109.942308</td>\n",
       "    </tr>\n",
       "    <tr>\n",
       "      <th>2017</th>\n",
       "      <td>117.057692</td>\n",
       "      <td>119.673077</td>\n",
       "    </tr>\n",
       "    <tr>\n",
       "      <th>2018</th>\n",
       "      <td>124.528302</td>\n",
       "      <td>129.509434</td>\n",
       "    </tr>\n",
       "    <tr>\n",
       "      <th>2019</th>\n",
       "      <td>124.442308</td>\n",
       "      <td>131.173077</td>\n",
       "    </tr>\n",
       "    <tr>\n",
       "      <th>2020</th>\n",
       "      <td>113.863636</td>\n",
       "      <td>119.272727</td>\n",
       "    </tr>\n",
       "  </tbody>\n",
       "</table>\n",
       "</div>"
      ],
      "text/plain": [
       "            ULSP        ULSD\n",
       "Year                        \n",
       "2003   75.200000   76.700000\n",
       "2004   79.807692   81.423077\n",
       "2005   86.307692   90.346154\n",
       "2006   90.865385   94.596154\n",
       "2007   94.037736   96.622642\n",
       "2008  106.519231  117.076923\n",
       "2009   99.134615  103.634615\n",
       "2010  116.326923  118.730769\n",
       "2011  132.923077  138.326923\n",
       "2012  135.264151  141.679245\n",
       "2013  133.865385  140.019231\n",
       "2014  126.961538  133.076923\n",
       "2015  110.634615  114.538462\n",
       "2016  108.480769  109.942308\n",
       "2017  117.057692  119.673077\n",
       "2018  124.528302  129.509434\n",
       "2019  124.442308  131.173077\n",
       "2020  113.863636  119.272727"
      ]
     },
     "execution_count": 177,
     "metadata": {},
     "output_type": "execute_result"
    }
   ],
   "source": [
    "fuelPricesPerYear = fuelPricesDfClean.groupby('Year').mean()\n",
    "fuelPricesPerYear"
   ]
  },
  {
   "cell_type": "code",
   "execution_count": 178,
   "metadata": {},
   "outputs": [
    {
     "data": {
      "text/plain": [
       "Year\n",
       "2003     75.950000\n",
       "2004     80.615385\n",
       "2005     88.326923\n",
       "2006     92.730769\n",
       "2007     95.330189\n",
       "2008    111.798077\n",
       "2009    101.384615\n",
       "2010    117.528846\n",
       "2011    135.625000\n",
       "2012    138.471698\n",
       "2013    136.942308\n",
       "2014    130.019231\n",
       "2015    112.586538\n",
       "2016    109.211538\n",
       "2017    118.365385\n",
       "2018    127.018868\n",
       "2019    127.807692\n",
       "2020    116.568182\n",
       "dtype: float64"
      ]
     },
     "execution_count": 178,
     "metadata": {},
     "output_type": "execute_result"
    }
   ],
   "source": [
    "fuelPricesPerYear.mean(axis=1)"
   ]
  },
  {
   "cell_type": "code",
   "execution_count": 190,
   "metadata": {
    "id": "6fdK_8ZGZm9R"
   },
   "outputs": [
    {
     "data": {
      "image/png": "[encoded data removed]",
      "text/plain": [
       "<Figure size 2000x500 with 1 Axes>"
      ]
     },
     "metadata": {},
     "output_type": "display_data"
    }
   ],
   "source": [
    "plt.figure(figsize=(20,5))\n",
    "plt.scatter(years[2:],fuelPricesPerYear.mean(axis=1))\n",
    "plt.plot(years[2:],fuelPricesPerYear.mean(axis=1))\n",
    "plt.title(\"Average Fuel prices per year from 2003-2020\")\n",
    "plt.xlabel(\"Years\")\n",
    "plt.ylabel(\"Fuel Prices\")\n",
    "plt.gca().get_yaxis().set_major_formatter(\n",
    "    ticker.FuncFormatter(lambda x, p: format(int(x), ',')))\n",
    "plt.gca().tick_params(axis='y', labelsize=15)\n",
    "plt.gca().tick_params(axis='x', labelsize=15)\n",
    "plt.xticks(years[2:])\n",
    "\n",
    "plt.show()"
   ]
  },
  {
   "cell_type": "markdown",
   "metadata": {
    "id": "K5RgvMGUZoHn"
   },
   "source": [
    "Though not linear, the plot shows that fuel prices have been increasing throughtout the years, with the highest being in 2012"
   ]
  },
  {
   "cell_type": "markdown",
   "metadata": {},
   "source": [
    "Comparing both the car sales and fuel prices graphs, it can be seen that regardless of any increase or decrease in fuel prices, car sales were not affected at all, except for exceptional circumstances such as quarantines. This indicates that people will not be deterred from purchasing cars if any change in fuel prices has occured."
   ]
  },
  {
   "cell_type": "markdown",
   "metadata": {
    "id": "0ezWXXZVj-TP"
   },
   "source": [
    "### **5.2:** Reflection"
   ]
  },
  {
   "cell_type": "markdown",
   "metadata": {
    "id": "XB3RBDG5kFe1"
   },
   "source": [
    "If I had more time and resources, I would have liked to expand the dataset to include more car brands, sales and dates going back to the 1980s. I also would have liked to expand this idea to other countries, to see the affect of car sales globally."
   ]
  }
 ],
 "metadata": {
  "colab": {
   "provenance": []
  },
  "kernelspec": {
   "display_name": "Python 3 (ipykernel)",
   "language": "python",
   "name": "python3"
  },
  "language_info": {
   "codemirror_mode": {
    "name": "ipython",
    "version": 3
   },
   "file_extension": ".py",
   "mimetype": "text/x-python",
   "name": "python",
   "nbconvert_exporter": "python",
   "pygments_lexer": "ipython3",
   "version": "3.12.3"
  }
 },
 "nbformat": 4,
 "nbformat_minor": 4
}
